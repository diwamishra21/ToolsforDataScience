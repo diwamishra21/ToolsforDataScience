{
  "nbformat": 4,
  "nbformat_minor": 0,
  "metadata": {
    "colab": {
      "provenance": []
    },
    "kernelspec": {
      "name": "python3",
      "display_name": "Python 3"
    },
    "language_info": {
      "name": "python"
    }
  },
  "cells": [
    {
      "cell_type": "markdown",
      "source": [
        "# Data Science Tools and Ecosystem"
      ],
      "metadata": {
        "id": "XMS44KHz5l5z"
      }
    },
    {
      "cell_type": "markdown",
      "source": [
        "## In this notebook, Data Science Tools and Ecosystem are summarized."
      ],
      "metadata": {
        "id": "dWjDMjHo6ugw"
      }
    },
    {
      "cell_type": "markdown",
      "source": [
        "### Some of the popular languages that Data Scientists use are:\n",
        "\n",
        "\n",
        "1.   Python\n",
        "2.   R\n",
        "3.   SQL\n",
        "\n"
      ],
      "metadata": {
        "id": "oUUG8UGY7Oer"
      }
    },
    {
      "cell_type": "markdown",
      "source": [
        "### Some of the commonly used libraries used by Data Scientists include:\n",
        "\n",
        "\n",
        "1.   SKlearn\n",
        "2.   pytorch\n",
        "3.   Pandas\n",
        "4.   NumPy\n",
        "\n"
      ],
      "metadata": {
        "id": "AoOlUBkt7z0L"
      }
    },
    {
      "cell_type": "markdown",
      "source": [
        "### Data Science Tools\n",
        "\n",
        "Python\n",
        "\n",
        "R\n",
        "\n",
        "Apache Spark\n",
        "\n",
        "Tensorflow\n",
        "\n",
        "Tableau\n",
        "\n"
      ],
      "metadata": {
        "id": "cnLcKj-08bp_"
      }
    },
    {
      "cell_type": "markdown",
      "source": [
        "### Below are a few examples of evaluating arithmetic expressions in Python"
      ],
      "metadata": {
        "id": "MxEiUELa_CsU"
      }
    },
    {
      "cell_type": "code",
      "source": [
        "2+2"
      ],
      "metadata": {
        "colab": {
          "base_uri": "https://localhost:8080/"
        },
        "id": "hsGPysMj_IvQ",
        "outputId": "dcb13dda-bb61-43d4-98cd-a39a57d7d89c"
      },
      "execution_count": 4,
      "outputs": [
        {
          "output_type": "execute_result",
          "data": {
            "text/plain": [
              "4"
            ]
          },
          "metadata": {},
          "execution_count": 4
        }
      ]
    },
    {
      "cell_type": "code",
      "source": [
        "4*3+6"
      ],
      "metadata": {
        "colab": {
          "base_uri": "https://localhost:8080/"
        },
        "id": "ksyTk8Qk_M6j",
        "outputId": "bc1e778c-c968-4922-f53d-8515e46f39d0"
      },
      "execution_count": 6,
      "outputs": [
        {
          "output_type": "execute_result",
          "data": {
            "text/plain": [
              "18"
            ]
          },
          "metadata": {},
          "execution_count": 6
        }
      ]
    },
    {
      "cell_type": "code",
      "source": [
        "(30+5)*4"
      ],
      "metadata": {
        "colab": {
          "base_uri": "https://localhost:8080/"
        },
        "id": "xF1tua9J_PYF",
        "outputId": "3a2f9697-c0de-43a2-bd5d-e9cf8a6fd216"
      },
      "execution_count": 7,
      "outputs": [
        {
          "output_type": "execute_result",
          "data": {
            "text/plain": [
              "140"
            ]
          },
          "metadata": {},
          "execution_count": 7
        }
      ]
    },
    {
      "cell_type": "code",
      "source": [
        "# This a simple arithmetic expression to mutiply then add integers\n",
        "(3*4)+5"
      ],
      "metadata": {
        "colab": {
          "base_uri": "https://localhost:8080/"
        },
        "id": "7vqqw1MH_Xkh",
        "outputId": "d645ea95-d091-492d-c46b-9cd3c4f212ab"
      },
      "execution_count": 8,
      "outputs": [
        {
          "output_type": "execute_result",
          "data": {
            "text/plain": [
              "17"
            ]
          },
          "metadata": {},
          "execution_count": 8
        }
      ]
    },
    {
      "cell_type": "code",
      "source": [
        "# This will convert 200 minutes to hours by diving by 60\n",
        "minutes = 200\n",
        "hours = 200/60\n",
        "hours"
      ],
      "metadata": {
        "colab": {
          "base_uri": "https://localhost:8080/"
        },
        "id": "n-WimgVF_oog",
        "outputId": "3ad92502-de05-4dc8-858b-5d2e11f11607"
      },
      "execution_count": 11,
      "outputs": [
        {
          "output_type": "execute_result",
          "data": {
            "text/plain": [
              "3.3333333333333335"
            ]
          },
          "metadata": {},
          "execution_count": 11
        }
      ]
    },
    {
      "cell_type": "markdown",
      "source": [
        "# Objectives:\n",
        "\n",
        "\n",
        "*   Popular Data sience languages are Python and R\n",
        "*   Jupyter notebook is starting point for beginner Data scientist\n",
        "*   There many Machine learning algorithms, main are supervised and unsupervised algorithms\n",
        "*   Some important libraries for data science are numpy, pandas, pytorch, tensorflow, scikit learn and more\n",
        "\n"
      ],
      "metadata": {
        "id": "J3RGnsGtAhVH"
      }
    },
    {
      "cell_type": "markdown",
      "source": [
        "## Author\n",
        "Diwaker Mishra"
      ],
      "metadata": {
        "id": "U2yPWBxtCJUk"
      }
    },
    {
      "cell_type": "code",
      "source": [],
      "metadata": {
        "id": "N5FSWTAFCOge"
      },
      "execution_count": null,
      "outputs": []
    }
  ]
}